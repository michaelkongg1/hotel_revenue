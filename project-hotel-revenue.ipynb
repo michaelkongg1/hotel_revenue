{
 "cells": [
  {
   "cell_type": "code",
   "execution_count": 1,
   "id": "23af200c",
   "metadata": {
    "_cell_guid": "b1076dfc-b9ad-4769-8c92-a6c4dae69d19",
    "_uuid": "8f2839f25d086af736a60e9eeb907d3b93b6e0e5",
    "execution": {
     "iopub.execute_input": "2025-08-09T12:19:43.714982Z",
     "iopub.status.busy": "2025-08-09T12:19:43.714594Z",
     "iopub.status.idle": "2025-08-09T12:19:45.512621Z",
     "shell.execute_reply": "2025-08-09T12:19:45.509153Z"
    },
    "papermill": {
     "duration": 1.804479,
     "end_time": "2025-08-09T12:19:45.514685",
     "exception": false,
     "start_time": "2025-08-09T12:19:43.710206",
     "status": "completed"
    },
    "tags": []
   },
   "outputs": [
    {
     "name": "stdout",
     "output_type": "stream",
     "text": [
      "/kaggle/input/hotel-data-analysis/hotel_revenue_historical_full.xlsx\n"
     ]
    }
   ],
   "source": [
    "import numpy as np # linear algebra\n",
    "import pandas as pd # data processing, CSV file I/O (e.g. pd.read_csv)\n",
    "\n",
    "\n",
    "\n",
    "import os\n",
    "for dirname, _, filenames in os.walk('/kaggle/input'):\n",
    "    for filename in filenames:\n",
    "        print(os.path.join(dirname, filename))"
   ]
  },
  {
   "cell_type": "code",
   "execution_count": 2,
   "id": "617f17d7",
   "metadata": {
    "execution": {
     "iopub.execute_input": "2025-08-09T12:19:45.522135Z",
     "iopub.status.busy": "2025-08-09T12:19:45.521247Z",
     "iopub.status.idle": "2025-08-09T12:19:45.525146Z",
     "shell.execute_reply": "2025-08-09T12:19:45.524541Z"
    },
    "papermill": {
     "duration": 0.008142,
     "end_time": "2025-08-09T12:19:45.526395",
     "exception": false,
     "start_time": "2025-08-09T12:19:45.518253",
     "status": "completed"
    },
    "tags": []
   },
   "outputs": [],
   "source": [
    "file = '/kaggle/input/hotel-data-analysis/hotel_revenue_historical_full.xlsx'"
   ]
  },
  {
   "cell_type": "code",
   "execution_count": 3,
   "id": "1af119fc",
   "metadata": {
    "execution": {
     "iopub.execute_input": "2025-08-09T12:19:45.531465Z",
     "iopub.status.busy": "2025-08-09T12:19:45.531195Z",
     "iopub.status.idle": "2025-08-09T12:20:38.777082Z",
     "shell.execute_reply": "2025-08-09T12:20:38.776128Z"
    },
    "papermill": {
     "duration": 53.250363,
     "end_time": "2025-08-09T12:20:38.778905",
     "exception": false,
     "start_time": "2025-08-09T12:19:45.528542",
     "status": "completed"
    },
    "tags": []
   },
   "outputs": [],
   "source": [
    "from sqlalchemy import create_engine\n",
    "\n",
    "conn = create_engine('sqlite://')  # Creates in-memory SQL engine\n",
    "\n",
    "xls = pd.read_excel(file, sheet_name=None)  # returns a dict of DataFrames\n",
    "for sheet, data in xls.items():\n",
    "    data.to_sql(sheet.lower(), conn, index=False, if_exists='replace')\n"
   ]
  },
  {
   "cell_type": "code",
   "execution_count": 4,
   "id": "73e81757",
   "metadata": {
    "execution": {
     "iopub.execute_input": "2025-08-09T12:20:38.785637Z",
     "iopub.status.busy": "2025-08-09T12:20:38.784672Z",
     "iopub.status.idle": "2025-08-09T12:20:38.806920Z",
     "shell.execute_reply": "2025-08-09T12:20:38.806061Z"
    },
    "papermill": {
     "duration": 0.02701,
     "end_time": "2025-08-09T12:20:38.808440",
     "exception": false,
     "start_time": "2025-08-09T12:20:38.781430",
     "status": "completed"
    },
    "tags": []
   },
   "outputs": [
    {
     "data": {
      "text/html": [
       "<div>\n",
       "<style scoped>\n",
       "    .dataframe tbody tr th:only-of-type {\n",
       "        vertical-align: middle;\n",
       "    }\n",
       "\n",
       "    .dataframe tbody tr th {\n",
       "        vertical-align: top;\n",
       "    }\n",
       "\n",
       "    .dataframe thead th {\n",
       "        text-align: right;\n",
       "    }\n",
       "</style>\n",
       "<table border=\"1\" class=\"dataframe\">\n",
       "  <thead>\n",
       "    <tr style=\"text-align: right;\">\n",
       "      <th></th>\n",
       "      <th>Discount</th>\n",
       "      <th>market_segment</th>\n",
       "    </tr>\n",
       "  </thead>\n",
       "  <tbody>\n",
       "    <tr>\n",
       "      <th>0</th>\n",
       "      <td>0.00</td>\n",
       "      <td>Undefined</td>\n",
       "    </tr>\n",
       "    <tr>\n",
       "      <th>1</th>\n",
       "      <td>0.10</td>\n",
       "      <td>Direct</td>\n",
       "    </tr>\n",
       "    <tr>\n",
       "      <th>2</th>\n",
       "      <td>0.10</td>\n",
       "      <td>Groups</td>\n",
       "    </tr>\n",
       "    <tr>\n",
       "      <th>3</th>\n",
       "      <td>0.15</td>\n",
       "      <td>Corporate</td>\n",
       "    </tr>\n",
       "    <tr>\n",
       "      <th>4</th>\n",
       "      <td>0.20</td>\n",
       "      <td>Aviation</td>\n",
       "    </tr>\n",
       "    <tr>\n",
       "      <th>5</th>\n",
       "      <td>0.30</td>\n",
       "      <td>Offline TA/TO</td>\n",
       "    </tr>\n",
       "    <tr>\n",
       "      <th>6</th>\n",
       "      <td>0.30</td>\n",
       "      <td>Online TA</td>\n",
       "    </tr>\n",
       "    <tr>\n",
       "      <th>7</th>\n",
       "      <td>1.00</td>\n",
       "      <td>Complementary</td>\n",
       "    </tr>\n",
       "  </tbody>\n",
       "</table>\n",
       "</div>"
      ],
      "text/plain": [
       "   Discount market_segment\n",
       "0      0.00      Undefined\n",
       "1      0.10         Direct\n",
       "2      0.10         Groups\n",
       "3      0.15      Corporate\n",
       "4      0.20       Aviation\n",
       "5      0.30  Offline TA/TO\n",
       "6      0.30      Online TA\n",
       "7      1.00  Complementary"
      ]
     },
     "execution_count": 4,
     "metadata": {},
     "output_type": "execute_result"
    }
   ],
   "source": [
    "pd.read_sql_query(\"SELECT * FROM market_segment\", conn)"
   ]
  },
  {
   "cell_type": "code",
   "execution_count": 5,
   "id": "7bf7798e",
   "metadata": {
    "execution": {
     "iopub.execute_input": "2025-08-09T12:20:38.814194Z",
     "iopub.status.busy": "2025-08-09T12:20:38.813685Z",
     "iopub.status.idle": "2025-08-09T12:20:41.417289Z",
     "shell.execute_reply": "2025-08-09T12:20:41.416496Z"
    },
    "papermill": {
     "duration": 2.60818,
     "end_time": "2025-08-09T12:20:41.418981",
     "exception": false,
     "start_time": "2025-08-09T12:20:38.810801",
     "status": "completed"
    },
    "tags": []
   },
   "outputs": [],
   "source": [
    " pd.set_option('display.max_columns', None)\n",
    "\n",
    "q1= \"\"\"\n",
    "with hotels as (\n",
    "    SELECT * FROM '2018'\n",
    "    UNION\n",
    "    SELECT * FROM '2019'\n",
    "    UNION\n",
    "    SELECT * FROM '2020'\n",
    ")\n",
    "SELECT * FROM hotels\n",
    "left join market_segment\n",
    "on hotels.market_segment = market_segment.market_segment\n",
    "left join meal_cost\n",
    "on hotels.meal = meal_cost.meal\n",
    "\"\"\"\n",
    "df_hotels=pd.read_sql_query(q1,conn)"
   ]
  },
  {
   "cell_type": "code",
   "execution_count": 6,
   "id": "7291d463",
   "metadata": {
    "execution": {
     "iopub.execute_input": "2025-08-09T12:20:41.424392Z",
     "iopub.status.busy": "2025-08-09T12:20:41.424113Z",
     "iopub.status.idle": "2025-08-09T12:20:42.855438Z",
     "shell.execute_reply": "2025-08-09T12:20:42.854465Z"
    },
    "papermill": {
     "duration": 1.435775,
     "end_time": "2025-08-09T12:20:42.857106",
     "exception": false,
     "start_time": "2025-08-09T12:20:41.421331",
     "status": "completed"
    },
    "tags": []
   },
   "outputs": [],
   "source": [
    "\n",
    "df_hotels.to_csv(\"hotel_data_cleaned.csv\", index=False)\n"
   ]
  },
  {
   "cell_type": "code",
   "execution_count": null,
   "id": "dc350a93",
   "metadata": {
    "papermill": {
     "duration": 0.001937,
     "end_time": "2025-08-09T12:20:42.861387",
     "exception": false,
     "start_time": "2025-08-09T12:20:42.859450",
     "status": "completed"
    },
    "tags": []
   },
   "outputs": [],
   "source": []
  }
 ],
 "metadata": {
  "kaggle": {
   "accelerator": "none",
   "dataSources": [
    {
     "datasetId": 2946011,
     "sourceId": 5073803,
     "sourceType": "datasetVersion"
    }
   ],
   "dockerImageVersionId": 31040,
   "isGpuEnabled": false,
   "isInternetEnabled": false,
   "language": "python",
   "sourceType": "notebook"
  },
  "kernelspec": {
   "display_name": "Python 3",
   "language": "python",
   "name": "python3"
  },
  "language_info": {
   "codemirror_mode": {
    "name": "ipython",
    "version": 3
   },
   "file_extension": ".py",
   "mimetype": "text/x-python",
   "name": "python",
   "nbconvert_exporter": "python",
   "pygments_lexer": "ipython3",
   "version": "3.11.11"
  },
  "papermill": {
   "default_parameters": {},
   "duration": 64.741823,
   "end_time": "2025-08-09T12:20:43.482296",
   "environment_variables": {},
   "exception": null,
   "input_path": "__notebook__.ipynb",
   "output_path": "__notebook__.ipynb",
   "parameters": {},
   "start_time": "2025-08-09T12:19:38.740473",
   "version": "2.6.0"
  }
 },
 "nbformat": 4,
 "nbformat_minor": 5
}
